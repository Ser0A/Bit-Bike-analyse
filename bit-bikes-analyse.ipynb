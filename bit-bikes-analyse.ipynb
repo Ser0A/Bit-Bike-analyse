{
 "cells": [
  {
   "cell_type": "markdown",
   "id": "f361469d",
   "metadata": {},
   "source": [
    "# Bit Bikes"
   ]
  },
  {
   "cell_type": "code",
   "execution_count": 1,
   "id": "cde09420",
   "metadata": {},
   "outputs": [],
   "source": [
    "import pandas as pd\n",
    "import seaborn as sns\n",
    "import matplotlib.pyplot as plt\n"
   ]
  },
  {
   "cell_type": "markdown",
   "id": "5c0b1d69",
   "metadata": {},
   "source": [
    "## Hier laad ik de datasets in "
   ]
  },
  {
   "cell_type": "code",
   "execution_count": 2,
   "id": "d7be0071",
   "metadata": {},
   "outputs": [
    {
     "data": {
      "text/html": [
       "<div>\n",
       "<style scoped>\n",
       "    .dataframe tbody tr th:only-of-type {\n",
       "        vertical-align: middle;\n",
       "    }\n",
       "\n",
       "    .dataframe tbody tr th {\n",
       "        vertical-align: top;\n",
       "    }\n",
       "\n",
       "    .dataframe thead th {\n",
       "        text-align: right;\n",
       "    }\n",
       "</style>\n",
       "<table border=\"1\" class=\"dataframe\">\n",
       "  <thead>\n",
       "    <tr style=\"text-align: right;\">\n",
       "      <th></th>\n",
       "      <th>ride_id</th>\n",
       "      <th>rideable_type</th>\n",
       "      <th>started_at</th>\n",
       "      <th>ended_at</th>\n",
       "      <th>start_station_name</th>\n",
       "      <th>start_station_id</th>\n",
       "      <th>end_station_name</th>\n",
       "      <th>end_station_id</th>\n",
       "      <th>start_lat</th>\n",
       "      <th>start_lng</th>\n",
       "      <th>end_lat</th>\n",
       "      <th>end_lng</th>\n",
       "      <th>member_casual</th>\n",
       "    </tr>\n",
       "  </thead>\n",
       "  <tbody>\n",
       "    <tr>\n",
       "      <th>0</th>\n",
       "      <td>762198876D69004D</td>\n",
       "      <td>docked_bike</td>\n",
       "      <td>09/07/2020 15:22</td>\n",
       "      <td>09/07/2020 15:25</td>\n",
       "      <td>Ritchie Ct &amp; Banks St</td>\n",
       "      <td>180.0</td>\n",
       "      <td>Wells St &amp; Evergreen Ave</td>\n",
       "      <td>291.0</td>\n",
       "      <td>41.906866</td>\n",
       "      <td>-87.626217</td>\n",
       "      <td>41.906724</td>\n",
       "      <td>-87.634830</td>\n",
       "      <td>member</td>\n",
       "    </tr>\n",
       "    <tr>\n",
       "      <th>1</th>\n",
       "      <td>BEC9C9FBA0D4CF1B</td>\n",
       "      <td>docked_bike</td>\n",
       "      <td>24/07/2020 23:56</td>\n",
       "      <td>25/07/2020 00:20</td>\n",
       "      <td>Halsted St &amp; Roscoe St</td>\n",
       "      <td>299.0</td>\n",
       "      <td>Broadway &amp; Ridge Ave</td>\n",
       "      <td>461.0</td>\n",
       "      <td>41.943670</td>\n",
       "      <td>-87.648950</td>\n",
       "      <td>41.984045</td>\n",
       "      <td>-87.660274</td>\n",
       "      <td>member</td>\n",
       "    </tr>\n",
       "    <tr>\n",
       "      <th>2</th>\n",
       "      <td>D2FD8EA432C77EC1</td>\n",
       "      <td>docked_bike</td>\n",
       "      <td>08/07/2020 19:49</td>\n",
       "      <td>08/07/2020 19:56</td>\n",
       "      <td>Lake Shore Dr &amp; Diversey Pkwy</td>\n",
       "      <td>329.0</td>\n",
       "      <td>Clark St &amp; Wellington Ave</td>\n",
       "      <td>156.0</td>\n",
       "      <td>41.932588</td>\n",
       "      <td>-87.636427</td>\n",
       "      <td>41.936497</td>\n",
       "      <td>-87.647539</td>\n",
       "      <td>casual</td>\n",
       "    </tr>\n",
       "    <tr>\n",
       "      <th>3</th>\n",
       "      <td>54AE594E20B35881</td>\n",
       "      <td>docked_bike</td>\n",
       "      <td>17/07/2020 19:06</td>\n",
       "      <td>17/07/2020 19:27</td>\n",
       "      <td>LaSalle St &amp; Illinois St</td>\n",
       "      <td>181.0</td>\n",
       "      <td>Clark St &amp; Armitage Ave</td>\n",
       "      <td>94.0</td>\n",
       "      <td>41.890762</td>\n",
       "      <td>-87.631697</td>\n",
       "      <td>41.918306</td>\n",
       "      <td>-87.636282</td>\n",
       "      <td>casual</td>\n",
       "    </tr>\n",
       "    <tr>\n",
       "      <th>4</th>\n",
       "      <td>54025FDC7440B56F</td>\n",
       "      <td>docked_bike</td>\n",
       "      <td>04/07/2020 10:39</td>\n",
       "      <td>04/07/2020 10:45</td>\n",
       "      <td>Lake Shore Dr &amp; North Blvd</td>\n",
       "      <td>268.0</td>\n",
       "      <td>Clark St &amp; Schiller St</td>\n",
       "      <td>301.0</td>\n",
       "      <td>41.911722</td>\n",
       "      <td>-87.626804</td>\n",
       "      <td>41.907993</td>\n",
       "      <td>-87.631501</td>\n",
       "      <td>member</td>\n",
       "    </tr>\n",
       "  </tbody>\n",
       "</table>\n",
       "</div>"
      ],
      "text/plain": [
       "            ride_id rideable_type        started_at          ended_at  \\\n",
       "0  762198876D69004D   docked_bike  09/07/2020 15:22  09/07/2020 15:25   \n",
       "1  BEC9C9FBA0D4CF1B   docked_bike  24/07/2020 23:56  25/07/2020 00:20   \n",
       "2  D2FD8EA432C77EC1   docked_bike  08/07/2020 19:49  08/07/2020 19:56   \n",
       "3  54AE594E20B35881   docked_bike  17/07/2020 19:06  17/07/2020 19:27   \n",
       "4  54025FDC7440B56F   docked_bike  04/07/2020 10:39  04/07/2020 10:45   \n",
       "\n",
       "              start_station_name  start_station_id           end_station_name  \\\n",
       "0          Ritchie Ct & Banks St             180.0   Wells St & Evergreen Ave   \n",
       "1         Halsted St & Roscoe St             299.0       Broadway & Ridge Ave   \n",
       "2  Lake Shore Dr & Diversey Pkwy             329.0  Clark St & Wellington Ave   \n",
       "3       LaSalle St & Illinois St             181.0    Clark St & Armitage Ave   \n",
       "4     Lake Shore Dr & North Blvd             268.0     Clark St & Schiller St   \n",
       "\n",
       "   end_station_id  start_lat  start_lng    end_lat    end_lng member_casual  \n",
       "0           291.0  41.906866 -87.626217  41.906724 -87.634830        member  \n",
       "1           461.0  41.943670 -87.648950  41.984045 -87.660274        member  \n",
       "2           156.0  41.932588 -87.636427  41.936497 -87.647539        casual  \n",
       "3            94.0  41.890762 -87.631697  41.918306 -87.636282        casual  \n",
       "4           301.0  41.911722 -87.626804  41.907993 -87.631501        member  "
      ]
     },
     "execution_count": 2,
     "metadata": {},
     "output_type": "execute_result"
    }
   ],
   "source": [
    "data_2020 = pd.read_csv('202007-divvy-tripdata.csv')\n",
    "data_2021 = pd.read_csv('202107-divvy-tripdata.csv')\n",
    "data_2022 = pd.read_csv('202207-divvy-tripdata.csv')\n",
    "data_2020.head(5)"
   ]
  },
  {
   "cell_type": "markdown",
   "id": "16e5c9a1",
   "metadata": {},
   "source": [
    "## Hier maak het dataset schoon\n",
    "Ik haal hier de colums weg die ik niet nodig heb voor deze visiulisatie."
   ]
  },
  {
   "cell_type": "code",
   "execution_count": 3,
   "id": "96a664e2",
   "metadata": {},
   "outputs": [],
   "source": [
    "clean_data_2020 = data_2020 [['rideable_type','member_casual']]\n",
    "clean_data_2021 = data_2021 [['rideable_type','member_casual']]\n",
    "clean_data_2022 = data_2022 [['rideable_type','member_casual']]"
   ]
  },
  {
   "cell_type": "markdown",
   "id": "fac6ab3d",
   "metadata": {},
   "source": [
    "## Combineer de datasets\n",
    "Hier combineer ik de datasets om ze naast elkaar te verlijken voor een beter overzicht."
   ]
  },
  {
   "cell_type": "code",
   "execution_count": 4,
   "id": "1bb081e8",
   "metadata": {},
   "outputs": [
    {
     "data": {
      "text/html": [
       "<div>\n",
       "<style scoped>\n",
       "    .dataframe tbody tr th:only-of-type {\n",
       "        vertical-align: middle;\n",
       "    }\n",
       "\n",
       "    .dataframe tbody tr th {\n",
       "        vertical-align: top;\n",
       "    }\n",
       "\n",
       "    .dataframe thead th {\n",
       "        text-align: right;\n",
       "    }\n",
       "</style>\n",
       "<table border=\"1\" class=\"dataframe\">\n",
       "  <thead>\n",
       "    <tr style=\"text-align: right;\">\n",
       "      <th></th>\n",
       "      <th>rideable_type</th>\n",
       "      <th>member_casual</th>\n",
       "      <th>Year</th>\n",
       "    </tr>\n",
       "  </thead>\n",
       "  <tbody>\n",
       "    <tr>\n",
       "      <th>0</th>\n",
       "      <td>docked_bike</td>\n",
       "      <td>member</td>\n",
       "      <td>2020</td>\n",
       "    </tr>\n",
       "    <tr>\n",
       "      <th>1</th>\n",
       "      <td>docked_bike</td>\n",
       "      <td>member</td>\n",
       "      <td>2020</td>\n",
       "    </tr>\n",
       "    <tr>\n",
       "      <th>2</th>\n",
       "      <td>docked_bike</td>\n",
       "      <td>casual</td>\n",
       "      <td>2020</td>\n",
       "    </tr>\n",
       "    <tr>\n",
       "      <th>3</th>\n",
       "      <td>docked_bike</td>\n",
       "      <td>casual</td>\n",
       "      <td>2020</td>\n",
       "    </tr>\n",
       "    <tr>\n",
       "      <th>4</th>\n",
       "      <td>docked_bike</td>\n",
       "      <td>member</td>\n",
       "      <td>2020</td>\n",
       "    </tr>\n",
       "    <tr>\n",
       "      <th>...</th>\n",
       "      <td>...</td>\n",
       "      <td>...</td>\n",
       "      <td>...</td>\n",
       "    </tr>\n",
       "    <tr>\n",
       "      <th>823483</th>\n",
       "      <td>electric_bike</td>\n",
       "      <td>member</td>\n",
       "      <td>2022</td>\n",
       "    </tr>\n",
       "    <tr>\n",
       "      <th>823484</th>\n",
       "      <td>electric_bike</td>\n",
       "      <td>member</td>\n",
       "      <td>2022</td>\n",
       "    </tr>\n",
       "    <tr>\n",
       "      <th>823485</th>\n",
       "      <td>electric_bike</td>\n",
       "      <td>member</td>\n",
       "      <td>2022</td>\n",
       "    </tr>\n",
       "    <tr>\n",
       "      <th>823486</th>\n",
       "      <td>electric_bike</td>\n",
       "      <td>member</td>\n",
       "      <td>2022</td>\n",
       "    </tr>\n",
       "    <tr>\n",
       "      <th>823487</th>\n",
       "      <td>electric_bike</td>\n",
       "      <td>member</td>\n",
       "      <td>2022</td>\n",
       "    </tr>\n",
       "  </tbody>\n",
       "</table>\n",
       "<p>2197378 rows × 3 columns</p>\n",
       "</div>"
      ],
      "text/plain": [
       "        rideable_type member_casual  Year\n",
       "0         docked_bike        member  2020\n",
       "1         docked_bike        member  2020\n",
       "2         docked_bike        casual  2020\n",
       "3         docked_bike        casual  2020\n",
       "4         docked_bike        member  2020\n",
       "...               ...           ...   ...\n",
       "823483  electric_bike        member  2022\n",
       "823484  electric_bike        member  2022\n",
       "823485  electric_bike        member  2022\n",
       "823486  electric_bike        member  2022\n",
       "823487  electric_bike        member  2022\n",
       "\n",
       "[2197378 rows x 3 columns]"
      ]
     },
     "execution_count": 4,
     "metadata": {},
     "output_type": "execute_result"
    }
   ],
   "source": [
    "combined_data = pd.concat([clean_data_2020.assign(Year=2020), clean_data_2021.assign(Year=2021), clean_data_2022.assign(Year=2022)])\n",
    "combined_data"
   ]
  },
  {
   "cell_type": "markdown",
   "id": "7d932de8",
   "metadata": {},
   "source": [
    "## Vergelijken\n",
    "Hier plot ik de grafieken om te kunnen vergelijken van het aantal fietsen en members."
   ]
  },
  {
   "cell_type": "code",
   "execution_count": 5,
   "id": "4e6c869b",
   "metadata": {},
   "outputs": [
    {
     "data": {
      "image/png": "[encoded data removed]",
      "text/plain": [
       "<Figure size 864x432 with 1 Axes>"
      ]
     },
     "metadata": {
      "needs_background": "light"
     },
     "output_type": "display_data"
    },
    {
     "data": {
      "image/png": "[encoded data removed]",
      "text/plain": [
       "<Figure size 864x432 with 1 Axes>"
      ]
     },
     "metadata": {
      "needs_background": "light"
     },
     "output_type": "display_data"
    }
   ],
   "source": [
    "# Countplot van 'rideable_type' per jaar\n",
    "plt.figure(figsize=(12, 6))\n",
    "ax = sns.countplot(x='rideable_type', data=combined_data, hue='Year')\n",
    "\n",
    "# Voegt de waarden toe boven op elke staaf per jaar\n",
    "for p in ax.patches:\n",
    "    ax.annotate(f'{p.get_height():.0f}', (p.get_x() + p.get_width() / 2., p.get_height()), ha='center', va='center', xytext=(0, 5), textcoords='offset points')\n",
    "\n",
    "# Plot instellingen\n",
    "plt.xlabel('Rideable Type')\n",
    "plt.ylabel('Aantal')\n",
    "plt.title('Totaal aantal verhuurd rideable type, per jaar')\n",
    "plt.xticks(rotation=0)\n",
    "\n",
    "# legenda Labels\n",
    "handles, labels = ax.get_legend_handles_labels()\n",
    "plt.legend(handles, ['2020', '2021', '2022'], title='Jaar')\n",
    "\n",
    "# Toon de plot\n",
    "plt.show()\n",
    "\n",
    "# Maak een countplot van 'casual_member' per jaar\n",
    "plt.figure(figsize=(12, 6))\n",
    "ax = sns.countplot(x='member_casual', data=combined_data, hue='Year')\n",
    "\n",
    "# Voegt de waarden toe boven op elke staaf per jaar\n",
    "for p in ax.patches:\n",
    "    ax.annotate(f'{p.get_height():.0f}', (p.get_x() + p.get_width() / 2., p.get_height()), ha='center', va='center', xytext=(0, 5), textcoords='offset points')\n",
    "\n",
    "# Plot instellingen\n",
    "plt.xlabel('Member type')\n",
    "plt.ylabel('Aantal')\n",
    "plt.title('Totaal aantal per Members, per jaar')\n",
    "plt.xticks(rotation=0)\n",
    "\n",
    "# legenda Jaar\n",
    "handles, labels = ax.get_legend_handles_labels()\n",
    "plt.legend(handles, ['2020', '2021', '2022'], title='Jaar')\n",
    "\n",
    "# Toon de plot\n",
    "plt.show()\n"
   ]
  },
  {
   "cell_type": "markdown",
   "id": "4066ddbb",
   "metadata": {},
   "source": [
    "# Advies voor Bit Bikes\n",
    "Dit advies onderbouw ik met het aan aangeleverde data, en wat ik er uit heb kunnen halen.\n",
    "\n",
    "## Fietstypes\n",
    "1. Docked bikes, zoals we kunnen zien neemt dit tpye fiets drastisch af in populariteit. In 2020 was dit type 549.545 keer verhuurd en in 2021 maar 57.698 keer het is met 89,46% afgenomen, en de vergelijking met 2021 tot 2022 is ook 46,04% afgenomen. Dus ik raad aan om dit type helemaal af te schaffen en alle docked bikes te verkopen. \n",
    "\n",
    "2. Electric bikes, van het grafiek is af te lezen dat deze type razend populair is.In 2020 was dit type 1935 keer verhuurd en in 2021 257.803 keer het is met 13.239,1% toegenomen, en zoals we kunnen zien dat het erg goed doet van 2021 naar 2022 is het met 62,64% gestegen. Dus ik raad voor dit type om meer fietsen te kopen minimaal 50% extra fietsen.\n",
    "\n",
    "3. Clasic bikes, dit type fiets was populair toen het in 2021 werd toegevoegd. Maar in 2022 nam het aantal gebruiks wel af, wel liefst met 26,38%. Ik zou aanraden om deze clasic bike met 10% te verminderen.\n",
    "\n",
    "## Members\n",
    "1. Members Als we naar het aantal gebruikers kijken zien we dat vaste klanten positief stijgen per jaar, dat is een goed teken dus van een stabiele inkomsten bron. Van 2020 naar 2021 zijn de members toegenomen met 34,79%, en van 2021 naar 2022 is het met 9,74% gestegen. Het gemiddelde stijging van het afgelopen 3 jaar was ongeveer 22,355%, dus ik verwacht het aankomend jaar weer een positieve groei.\n",
    "\n",
    "2. Casual Als we naar de cijfers kijken was er van 2020 naar 2021 een posetivie groei van 64,11%, maar van 2021 naar 2022 was er een afname van 8,15%. Dus het gemiddelde groeipercentage tussen 2020, 2021 en 2022 is ongeveer 27.98%, ik verwacht aankomend jaar weer een afname want ik verwacht dat mensen gaan overstappen naar een membership."
   ]
  },
  {
   "cell_type": "code",
   "execution_count": null,
   "id": "83da28fa",
   "metadata": {},
   "outputs": [],
   "source": []
  }
 ],
 "metadata": {
  "kernelspec": {
   "display_name": "Python 3 (ipykernel)",
   "language": "python",
   "name": "python3"
  },
  "language_info": {
   "codemirror_mode": {
    "name": "ipython",
    "version": 3
   },
   "file_extension": ".py",
   "mimetype": "text/x-python",
   "name": "python",
   "nbconvert_exporter": "python",
   "pygments_lexer": "ipython3",
   "version": "3.9.12"
  }
 },
 "nbformat": 4,
 "nbformat_minor": 5
}
